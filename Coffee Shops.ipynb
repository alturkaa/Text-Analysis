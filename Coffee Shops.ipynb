{
 "metadata": {
  "name": "",
  "signature": "sha256:9d5b117ffa559b0abe17ba3e91442cfc11b7e7ff8910a8d2f56556d89fe9fe74"
 },
 "nbformat": 3,
 "nbformat_minor": 0,
 "worksheets": [
  {
   "cells": [
    {
     "cell_type": "heading",
     "level": 2,
     "metadata": {},
     "source": [
      "Coffee shops in Jackson, MS"
     ]
    },
    {
     "cell_type": "code",
     "collapsed": false,
     "input": [
      "import sys"
     ],
     "language": "python",
     "metadata": {},
     "outputs": []
    },
    {
     "cell_type": "code",
     "collapsed": false,
     "input": [
      "print sys.path"
     ],
     "language": "python",
     "metadata": {},
     "outputs": [
      {
       "output_type": "stream",
       "stream": "stdout",
       "text": [
        "['', 'C:\\\\Users\\\\Akram Al-Turk\\\\Anaconda\\\\python27.zip', 'C:\\\\Users\\\\Akram Al-Turk\\\\Anaconda\\\\DLLs', 'C:\\\\Users\\\\Akram Al-Turk\\\\Anaconda\\\\lib', 'C:\\\\Users\\\\Akram Al-Turk\\\\Anaconda\\\\lib\\\\plat-win', 'C:\\\\Users\\\\Akram Al-Turk\\\\Anaconda\\\\lib\\\\lib-tk', 'C:\\\\Users\\\\Akram Al-Turk\\\\Anaconda', 'C:\\\\Users\\\\Akram Al-Turk\\\\Anaconda\\\\lib\\\\site-packages', 'C:\\\\Users\\\\Akram Al-Turk\\\\Anaconda\\\\lib\\\\site-packages\\\\PIL', 'C:\\\\Users\\\\Akram Al-Turk\\\\Anaconda\\\\lib\\\\site-packages\\\\win32', 'C:\\\\Users\\\\Akram Al-Turk\\\\Anaconda\\\\lib\\\\site-packages\\\\win32\\\\lib', 'C:\\\\Users\\\\Akram Al-Turk\\\\Anaconda\\\\lib\\\\site-packages\\\\Pythonwin', 'C:\\\\Users\\\\Akram Al-Turk\\\\Anaconda\\\\lib\\\\site-packages\\\\runipy-0.1.0-py2.7.egg', 'C:\\\\Users\\\\Akram Al-Turk\\\\Anaconda\\\\lib\\\\site-packages\\\\setuptools-3.6-py2.7.egg', 'C:\\\\Users\\\\Akram Al-Turk\\\\Anaconda\\\\lib\\\\site-packages\\\\IPython\\\\extensions']\n"
       ]
      }
     ]
    },
    {
     "cell_type": "code",
     "collapsed": false,
     "input": [
      "!pip install oauth2"
     ],
     "language": "python",
     "metadata": {},
     "outputs": [
      {
       "output_type": "stream",
       "stream": "stdout",
       "text": [
        "Downloading/unpacking oauth2\n",
        "  Downloading oauth2-1.5.211.tar.gz\n",
        "  Running setup.py (path:c:\\users\\akrama~1\\appdata\\local\\temp\\pip_build_Akram Al-Turk\\oauth2\\setup.py) egg_info for package oauth2\n",
        "    \n",
        "Downloading/unpacking httplib2 (from oauth2)\n",
        "  Running setup.py (path:c:\\users\\akrama~1\\appdata\\local\\temp\\pip_build_Akram Al-Turk\\httplib2\\setup.py) egg_info for package httplib2\n",
        "    \n",
        "Installing collected packages: oauth2, httplib2\n",
        "  Running setup.py install for oauth2\n",
        "    \n",
        "  Running setup.py install for httplib2\n",
        "    \n",
        "Successfully installed oauth2 httplib2\n",
        "Cleaning up...\n"
       ]
      }
     ]
    },
    {
     "cell_type": "code",
     "collapsed": false,
     "input": [
      "from __future__ import division\n",
      "import json\n",
      "import csv\n",
      "from collections import Counter\n",
      "\n",
      "import numpy as np\n",
      "import requests\n",
      "\n",
      "import oauth2"
     ],
     "language": "python",
     "metadata": {},
     "outputs": []
    },
    {
     "cell_type": "code",
     "collapsed": false,
     "input": [
      "consumer_key = '7DhwNhf9niRPVGbt-WtV0w'\n",
      "consumer_secret = '8K1Ia_-hdAvueXFfMV-6SEWkh0E'\n",
      "token = 'NLsB_LsasQ-inbR0mfM9JxIsnI-g05sy'\n",
      "token_secret = 'UqIjlUCb2dlI0At6L4uXsNjRAPc'\n",
      "\n",
      "consumer = oauth2.Consumer(consumer_key, consumer_secret)\n",
      "category_filter = 'coffee'\n",
      "location = 'Jackson, MS'\n",
      "options =  'category_filter=%s&location=%s&sort=2' % (category_filter, location)\n",
      "url = 'http://api.yelp.com/v2/search?' + options\n",
      "oauth_request = oauth2.Request('GET', url, {})\n",
      "oauth_request.update({'oauth_nonce'      : oauth2.generate_nonce(),\n",
      "                      'oauth_timestamp'  : oauth2.generate_timestamp(),\n",
      "                      'oauth_token'      : token,\n",
      "                      'oauth_consumer_key': consumer_key})\n",
      "\n",
      "token = oauth2.Token(token, token_secret)\n",
      "oauth_request.sign_request(oauth2.SignatureMethod_HMAC_SHA1(), consumer, token)\n",
      "signed_url = oauth_request.to_url()\n",
      "\n",
      "print signed_url"
     ],
     "language": "python",
     "metadata": {},
     "outputs": [
      {
       "output_type": "stream",
       "stream": "stdout",
       "text": [
        "http://api.yelp.com/v2/search?sort=2&oauth_body_hash=2jmj7l5rSw0yVb%2FvlWAYkK%2FYBwk%3D&oauth_nonce=65777411&oauth_timestamp=1410363894&oauth_consumer_key=7DhwNhf9niRPVGbt-WtV0w&oauth_signature_method=HMAC-SHA1&category_filter=coffee&oauth_token=NLsB_LsasQ-inbR0mfM9JxIsnI-g05sy&location=Jackson%2C+MS&oauth_signature=fysHPzD0%2F5ywBW5O5a6QpkXCVFg%3D\n"
       ]
      }
     ]
    },
    {
     "cell_type": "code",
     "collapsed": false,
     "input": [
      "response = requests.get(url=signed_url)\n",
      "jackson_coffee_shops = response.json()"
     ],
     "language": "python",
     "metadata": {},
     "outputs": []
    },
    {
     "cell_type": "code",
     "collapsed": false,
     "input": [
      "type(jackson_coffee_shops)"
     ],
     "language": "python",
     "metadata": {},
     "outputs": [
      {
       "metadata": {},
       "output_type": "pyout",
       "prompt_number": 68,
       "text": [
        "dict"
       ]
      }
     ]
    },
    {
     "cell_type": "code",
     "collapsed": false,
     "input": [
      "print jackson_coffee_shops['total']"
     ],
     "language": "python",
     "metadata": {},
     "outputs": [
      {
       "output_type": "stream",
       "stream": "stdout",
       "text": [
        "24\n"
       ]
      }
     ]
    },
    {
     "cell_type": "code",
     "collapsed": false,
     "input": [
      "for coffee in jackson_coffee_shops['businesses']:\n",
      "    print '%s - Address: %s, %s. Rating: %s' % (coffee['name'], coffee['location']['display_address'][0], coffee['location']['city'], coffee['rating'])"
     ],
     "language": "python",
     "metadata": {},
     "outputs": [
      {
       "output_type": "stream",
       "stream": "stdout",
       "text": [
        "Sneaky Beans - Address: 2914 N State St, Jackson. Rating: 4.0\n",
        "Newks Express Cafe - Address: 733 Lake Harbour Dr, Ridgeland. Rating: 4.0\n",
        "Cups - Address: 374 Ridge Way, Flowood. Rating: 4.0\n",
        "Cups an  Espresso Cafe - Address: 2757 Old Canton Rd, Jackson. Rating: 4.0\n",
        "Cups - Address: 101 W. Main St., Clinton. Rating: 4.0\n",
        "Fusion Coffeehouse - Address: 1111A Highland Colony Pkwy, Ridgeland. Rating: 4.0\n",
        "Koinonia Coffee House - Address: 136 S Adams St, Jackson. Rating: 5.0\n",
        "Cups Espresso Cafe - Address: 1903 Main St, Madison. Rating: 4.5\n",
        "The Well - Address: 6071 Hwy 25, Brandon. Rating: 5.0\n",
        "Seattle Drip - Address: 6057 Old Canton Rd, Jackson. Rating: 5.0\n",
        "Coffee Roastery  - Address: 308 W Pearl St, Jackson. Rating: 4.0\n",
        "Seattle Drip Lakeland - Address: 2288 Lakeland Dr, Flowood. Rating: 4.5\n",
        "Congress Street Coffee - Address: 726 N West St, Jackson. Rating: 5.0\n",
        "Cups On Capitol - Address: 210 E Capitol St Ste 110, Jackson. Rating: 5.0\n",
        "Seattle Drip - Address: 377 Highway 51, Ridgeland. Rating: 5.0\n",
        "Einstein Bros Bagels - Address: 1200 N State St, Jackson. Rating: 4.0\n",
        "Cups - Address: 1855 Lakeland Dr, Jackson. Rating: 4.0\n",
        "Cups - Address: Ridgeland, MS, Ridgeland. Rating: 4.0\n",
        "Starbucks - Address: 6365 N Hwy 55, Jackson. Rating: 2.5\n",
        "Seattle's Best Coffee - Address: 235 W Capitol St, Jackson. Rating: 3.5\n"
       ]
      }
     ]
    }
   ],
   "metadata": {}
  }
 ]
}